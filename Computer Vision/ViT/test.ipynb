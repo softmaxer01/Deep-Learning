{
 "cells": [
  {
   "cell_type": "code",
   "execution_count": 1,
   "metadata": {},
   "outputs": [],
   "source": [
    "import torch\n",
    "import torch.nn as nn"
   ]
  },
  {
   "cell_type": "code",
   "execution_count": 63,
   "id": "44d7ee07",
   "metadata": {},
   "outputs": [],
   "source": [
    "A = torch.randn((3,100,100))\n"
   ]
  },
  {
   "cell_type": "code",
   "execution_count": 57,
   "id": "b3269719",
   "metadata": {},
   "outputs": [],
   "source": [
    "def get_patches(img):\n",
    "    A_prime = A.split_with_sizes([25,25,25,25],dim = 1)\n",
    "    patches = []\n",
    "    for i in A_prime:\n",
    "        patches.append(i.split_with_sizes([25,25,25,25],dim=2))\n",
    "    return patches"
   ]
  },
  {
   "cell_type": "code",
   "execution_count": 58,
   "id": "771bdc89",
   "metadata": {},
   "outputs": [],
   "source": [
    "A = get_patches(A)"
   ]
  },
  {
   "cell_type": "code",
   "execution_count": 61,
   "id": "0bdd7415",
   "metadata": {},
   "outputs": [
    {
     "name": "stdout",
     "output_type": "stream",
     "text": [
      "torch.Size([3, 25, 25])\n",
      "torch.Size([3, 25, 25])\n",
      "torch.Size([3, 25, 25])\n",
      "torch.Size([3, 25, 25])\n",
      "torch.Size([3, 25, 25])\n",
      "torch.Size([3, 25, 25])\n",
      "torch.Size([3, 25, 25])\n",
      "torch.Size([3, 25, 25])\n",
      "torch.Size([3, 25, 25])\n",
      "torch.Size([3, 25, 25])\n",
      "torch.Size([3, 25, 25])\n",
      "torch.Size([3, 25, 25])\n",
      "torch.Size([3, 25, 25])\n",
      "torch.Size([3, 25, 25])\n",
      "torch.Size([3, 25, 25])\n",
      "torch.Size([3, 25, 25])\n"
     ]
    }
   ],
   "source": [
    "for i in A:\n",
    "    for j in i:\n",
    "        print(j.shape)"
   ]
  },
  {
   "cell_type": "code",
   "execution_count": 62,
   "id": "bc6af96d",
   "metadata": {},
   "outputs": [],
   "source": [
    "def get_patches(img, patch_size):\n",
    "    \"\"\"\n",
    "    img: (C, H, W) tensor\n",
    "    patch_size: int, e.g., 16 or 25\n",
    "    returns: (num_patches, C, patch_size, patch_size)\n",
    "    \"\"\"\n",
    "    C, H, W = img.shape\n",
    "    assert H % patch_size == 0 and W % patch_size == 0, \"Image must be divisible by patch size.\"\n",
    "    patches = img.unfold(1, patch_size, patch_size).unfold(2, patch_size, patch_size)\n",
    "    patches = patches.permute(1, 2, 0, 3, 4)\n",
    "    patches = patches.contiguous().view(-1, C, patch_size, patch_size)\n",
    "    return patches"
   ]
  },
  {
   "cell_type": "code",
   "execution_count": 82,
   "id": "ef1b25c5",
   "metadata": {},
   "outputs": [
    {
     "name": "stdout",
     "output_type": "stream",
     "text": [
      "torch.Size([1875])\n",
      "torch.Size([1875])\n",
      "torch.Size([1875])\n",
      "torch.Size([1875])\n",
      "torch.Size([1875])\n",
      "torch.Size([1875])\n",
      "torch.Size([1875])\n",
      "torch.Size([1875])\n",
      "torch.Size([1875])\n",
      "torch.Size([1875])\n",
      "torch.Size([1875])\n",
      "torch.Size([1875])\n",
      "torch.Size([1875])\n",
      "torch.Size([1875])\n",
      "torch.Size([1875])\n",
      "torch.Size([1875])\n"
     ]
    }
   ],
   "source": [
    "for i in get_patches(A,25).view(16,-1):\n",
    "    print(i.shape)"
   ]
  },
  {
   "cell_type": "code",
   "execution_count": 78,
   "id": "fca47d0d",
   "metadata": {},
   "outputs": [
    {
     "data": {
      "text/plain": [
       "16"
      ]
     },
     "execution_count": 78,
     "metadata": {},
     "output_type": "execute_result"
    }
   ],
   "source": [
    "(100*100)//25**2"
   ]
  },
  {
   "cell_type": "code",
   "execution_count": null,
   "id": "8f089d44",
   "metadata": {},
   "outputs": [],
   "source": []
  }
 ],
 "metadata": {
  "kernelspec": {
   "display_name": "base",
   "language": "python",
   "name": "python3"
  },
  "language_info": {
   "codemirror_mode": {
    "name": "ipython",
    "version": 3
   },
   "file_extension": ".py",
   "mimetype": "text/x-python",
   "name": "python",
   "nbconvert_exporter": "python",
   "pygments_lexer": "ipython3",
   "version": "3.13.5"
  }
 },
 "nbformat": 4,
 "nbformat_minor": 5
}
