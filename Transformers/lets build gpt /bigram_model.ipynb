{
 "cells": [
  {
   "cell_type": "code",
   "execution_count": 1,
   "id": "58ecae9e",
   "metadata": {},
   "outputs": [],
   "source": [
    "with open('input.txt','r',encoding='utf-8') as f:\n",
    "    text = f.read()"
   ]
  },
  {
   "cell_type": "code",
   "execution_count": 2,
   "id": "5f4185aa",
   "metadata": {},
   "outputs": [
    {
     "data": {
      "text/plain": [
       "'First Citi'"
      ]
     },
     "execution_count": 2,
     "metadata": {},
     "output_type": "execute_result"
    }
   ],
   "source": [
    "text[:10]"
   ]
  },
  {
   "cell_type": "code",
   "execution_count": 3,
   "id": "5c909dfd",
   "metadata": {},
   "outputs": [
    {
     "name": "stdout",
     "output_type": "stream",
     "text": [
      "char size:(1115394)\n"
     ]
    }
   ],
   "source": [
    "print(f\"char size:({len(text)})\")"
   ]
  },
  {
   "cell_type": "code",
   "execution_count": 4,
   "id": "b90b71e0",
   "metadata": {},
   "outputs": [
    {
     "name": "stdout",
     "output_type": "stream",
     "text": [
      "vocab size: (65)\n"
     ]
    }
   ],
   "source": [
    "chars = sorted(list(set(text)))\n",
    "vocab_size = len(chars)\n",
    "print(f\"vocab size: ({vocab_size})\")"
   ]
  },
  {
   "cell_type": "code",
   "execution_count": 5,
   "id": "418c159a",
   "metadata": {},
   "outputs": [],
   "source": [
    "stoi = {ch:i for i,ch in enumerate(chars)}\n",
    "itos = {i:ch for i,ch in enumerate(chars)}"
   ]
  },
  {
   "cell_type": "code",
   "execution_count": 6,
   "id": "045a8dde",
   "metadata": {},
   "outputs": [
    {
     "data": {
      "text/plain": [
       "'hi there'"
      ]
     },
     "execution_count": 6,
     "metadata": {},
     "output_type": "execute_result"
    }
   ],
   "source": [
    "def encoder(chars):\n",
    "    return [stoi[char] for char in chars]\n",
    "\n",
    "def decoder(nums):\n",
    "    return \"\".join(itos[num] for num in nums)\n",
    "\n",
    "decoder(encoder(\"hi there\"))"
   ]
  },
  {
   "cell_type": "code",
   "execution_count": 7,
   "id": "e1b3b672",
   "metadata": {},
   "outputs": [
    {
     "name": "stdout",
     "output_type": "stream",
     "text": [
      "shape: torch.Size([1115394])\n"
     ]
    }
   ],
   "source": [
    "import torch \n",
    "data = torch.tensor(encoder(text),dtype=torch.long)\n",
    "print(f\"shape: {data.shape}\")"
   ]
  },
  {
   "cell_type": "code",
   "execution_count": 8,
   "id": "10a31e84",
   "metadata": {},
   "outputs": [],
   "source": [
    "def train_test_split(data,percentage):\n",
    "    n = (int)(data.shape[0]*percentage)\n",
    "    return {\n",
    "        \"train\":data[:n],\n",
    "        \"val\":data[n:]\n",
    "    }\n"
   ]
  },
  {
   "cell_type": "code",
   "execution_count": 9,
   "id": "21fb4b81",
   "metadata": {},
   "outputs": [],
   "source": [
    "tts = train_test_split(data,0.9)\n",
    "train_data = tts[\"train\"]\n",
    "val_data = tts[\"val\"]"
   ]
  },
  {
   "cell_type": "code",
   "execution_count": 10,
   "id": "ac80de72",
   "metadata": {},
   "outputs": [
    {
     "data": {
      "text/plain": [
       "tensor([18, 47, 56, 57, 58,  1, 15, 47, 58])"
      ]
     },
     "execution_count": 10,
     "metadata": {},
     "output_type": "execute_result"
    }
   ],
   "source": [
    "# context length\n",
    "block_size = 8\n",
    "train_data[:block_size+1]"
   ]
  },
  {
   "cell_type": "code",
   "execution_count": 11,
   "id": "875f54d8",
   "metadata": {},
   "outputs": [
    {
     "name": "stdout",
     "output_type": "stream",
     "text": [
      "context: tensor([18])-target: 47\n",
      "context: tensor([18, 47])-target: 56\n",
      "context: tensor([18, 47, 56])-target: 57\n",
      "context: tensor([18, 47, 56, 57])-target: 58\n",
      "context: tensor([18, 47, 56, 57, 58])-target: 1\n",
      "context: tensor([18, 47, 56, 57, 58,  1])-target: 15\n",
      "context: tensor([18, 47, 56, 57, 58,  1, 15])-target: 47\n",
      "context: tensor([18, 47, 56, 57, 58,  1, 15, 47])-target: 58\n"
     ]
    }
   ],
   "source": [
    "x = train_data[:block_size]\n",
    "y = train_data[1:block_size+1]\n",
    "for t in range(block_size):\n",
    "    context = x[:t+1]\n",
    "    target = y[t]\n",
    "    print(f\"context: {context}-target: {target}\")\n"
   ]
  },
  {
   "cell_type": "code",
   "execution_count": 12,
   "id": "8264f2dd",
   "metadata": {},
   "outputs": [],
   "source": [
    "torch.manual_seed(1337)\n",
    "batch_size = 4 # stack of sequence for parrallel process\n",
    "block_size = 8 # maximum context length\n",
    "\n",
    "def get_batch(split):\n",
    "    data = train_data if split == \"train\" else val_data\n",
    "    ix = torch.randint(low = 0,high = len(data)-block_size,size=(batch_size,))\n",
    "    x = torch.stack([data[i:i+block_size] for i in ix])\n",
    "    y = torch.stack([data[i+1:i+block_size+1] for i in ix])\n",
    "    return x,y"
   ]
  },
  {
   "cell_type": "code",
   "execution_count": 14,
   "id": "a939ab8a",
   "metadata": {},
   "outputs": [
    {
     "data": {
      "text/plain": [
       "tensor([[57, 43, 60, 43, 52,  1, 63, 43],\n",
       "        [60, 43, 42,  8,  0, 25, 63,  1],\n",
       "        [56, 42,  5, 57,  1, 57, 39, 49],\n",
       "        [43, 57, 58, 63,  6,  1, 58, 46]])"
      ]
     },
     "execution_count": 14,
     "metadata": {},
     "output_type": "execute_result"
    }
   ],
   "source": [
    "xb,yb = get_batch(\"train\")\n",
    "xb"
   ]
  },
  {
   "cell_type": "code",
   "execution_count": 15,
   "id": "299c88be",
   "metadata": {},
   "outputs": [
    {
     "name": "stdout",
     "output_type": "stream",
     "text": [
      "input: tensor([24]) -> target 43\n",
      "input: tensor([24, 43]) -> target 58\n",
      "input: tensor([24, 43, 58]) -> target 5\n",
      "input: tensor([24, 43, 58,  5]) -> target 57\n",
      "input: tensor([24, 43, 58,  5, 57]) -> target 1\n",
      "input: tensor([24, 43, 58,  5, 57,  1]) -> target 46\n",
      "input: tensor([24, 43, 58,  5, 57,  1, 46]) -> target 43\n",
      "input: tensor([24, 43, 58,  5, 57,  1, 46, 43]) -> target 39\n",
      "input: tensor([44]) -> target 53\n",
      "input: tensor([44, 53]) -> target 56\n",
      "input: tensor([44, 53, 56]) -> target 1\n",
      "input: tensor([44, 53, 56,  1]) -> target 58\n",
      "input: tensor([44, 53, 56,  1, 58]) -> target 46\n",
      "input: tensor([44, 53, 56,  1, 58, 46]) -> target 39\n",
      "input: tensor([44, 53, 56,  1, 58, 46, 39]) -> target 58\n",
      "input: tensor([44, 53, 56,  1, 58, 46, 39, 58]) -> target 1\n",
      "input: tensor([52]) -> target 58\n",
      "input: tensor([52, 58]) -> target 1\n",
      "input: tensor([52, 58,  1]) -> target 58\n",
      "input: tensor([52, 58,  1, 58]) -> target 46\n",
      "input: tensor([52, 58,  1, 58, 46]) -> target 39\n",
      "input: tensor([52, 58,  1, 58, 46, 39]) -> target 58\n",
      "input: tensor([52, 58,  1, 58, 46, 39, 58]) -> target 1\n",
      "input: tensor([52, 58,  1, 58, 46, 39, 58,  1]) -> target 46\n",
      "input: tensor([25]) -> target 17\n",
      "input: tensor([25, 17]) -> target 27\n",
      "input: tensor([25, 17, 27]) -> target 10\n",
      "input: tensor([25, 17, 27, 10]) -> target 0\n",
      "input: tensor([25, 17, 27, 10,  0]) -> target 21\n",
      "input: tensor([25, 17, 27, 10,  0, 21]) -> target 1\n",
      "input: tensor([25, 17, 27, 10,  0, 21,  1]) -> target 54\n",
      "input: tensor([25, 17, 27, 10,  0, 21,  1, 54]) -> target 39\n"
     ]
    }
   ],
   "source": [
    "for i in range(batch_size):\n",
    "    for j in range(block_size):\n",
    "        context = xb[i,:j+1]\n",
    "        target = yb[i,j]\n",
    "        print(f\"input: {context} -> target {target}\")"
   ]
  },
  {
   "cell_type": "code",
   "execution_count": 37,
   "id": "1572775d",
   "metadata": {},
   "outputs": [],
   "source": [
    "import torch\n",
    "import torch.nn as nn \n",
    "import torch.nn.functional as f\n",
    "\n",
    "class BigramLanguageModel(nn.Module):\n",
    "\n",
    "    def __init__(self,vocab_size):\n",
    "        super().__init__()\n",
    "        # look-up table\n",
    "        self.token_embedding_table = nn.Embedding(vocab_size,vocab_size)\n",
    "\n",
    "    def forward(self,idx,target=None):\n",
    "        logits = self.token_embedding_table(idx)\n",
    "        if target == None:\n",
    "            loss = None\n",
    "        else:\n",
    "            loss = f.cross_entropy(logits.permute(0,2,1),target)\n",
    "        return logits,loss\n",
    "    \n",
    "    def genrate(self,idx,max_new_tokens):\n",
    "        for _ in range(max_new_tokens):\n",
    "            logits,loss = self(idx)\n",
    "            logits = logits[:,-1,:]\n",
    "            probs = f.softmax(logits,dim = -1)\n",
    "            idx_next = torch.multinomial(probs,num_samples=1)\n",
    "            idx = torch.cat((idx,idx_next),dim = 1)\n",
    "        return idx\n"
   ]
  },
  {
   "cell_type": "code",
   "execution_count": 48,
   "id": "506e9c76",
   "metadata": {},
   "outputs": [
    {
     "name": "stdout",
     "output_type": "stream",
     "text": [
      "torch.Size([4, 8, 65])\n",
      "shape: (Batch_dim,context_size,embedding_size/vocab_size)\n",
      "loss: 4.397454738616943\n"
     ]
    }
   ],
   "source": [
    "blm = BigramLanguageModel(vocab_size=vocab_size)\n",
    "out,loss = blm(xb,yb)\n",
    "print(out.shape)\n",
    "print(\"shape: (Batch_dim,context_size,embedding_size/vocab_size)\")\n",
    "print(f\"loss: {loss}\")"
   ]
  },
  {
   "cell_type": "code",
   "execution_count": 49,
   "id": "8d79d79a",
   "metadata": {},
   "outputs": [
    {
     "name": "stdout",
     "output_type": "stream",
     "text": [
      "\n",
      "kVwiplUkLsY.r?I?mQSB.jZvYMnGsY$dHaI3Ngjzo!wmExFILBSznSmCi$ddyaMIPk&Bfo\n",
      "mpiMILiCitLOvkJNsOpbBt!nCJiRF\n"
     ]
    }
   ],
   "source": [
    "print(decoder(blm.genrate(torch.zeros((1,1),dtype=torch.long),max_new_tokens=100)[0].tolist()))"
   ]
  },
  {
   "cell_type": "code",
   "execution_count": null,
   "id": "7b52a339",
   "metadata": {},
   "outputs": [],
   "source": []
  }
 ],
 "metadata": {
  "kernelspec": {
   "display_name": "base",
   "language": "python",
   "name": "python3"
  },
  "language_info": {
   "codemirror_mode": {
    "name": "ipython",
    "version": 3
   },
   "file_extension": ".py",
   "mimetype": "text/x-python",
   "name": "python",
   "nbconvert_exporter": "python",
   "pygments_lexer": "ipython3",
   "version": "3.13.5"
  }
 },
 "nbformat": 4,
 "nbformat_minor": 5
}
