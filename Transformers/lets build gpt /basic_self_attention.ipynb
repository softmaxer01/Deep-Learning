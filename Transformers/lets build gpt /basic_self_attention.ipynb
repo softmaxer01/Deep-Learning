{
 "cells": [
  {
   "cell_type": "code",
   "execution_count": 59,
   "id": "19d2c663",
   "metadata": {},
   "outputs": [],
   "source": [
    "import torch\n",
    "import torch.nn as nn\n",
    "import torch.nn.functional as f"
   ]
  },
  {
   "cell_type": "code",
   "execution_count": 62,
   "id": "d8146e6a",
   "metadata": {},
   "outputs": [],
   "source": [
    "torch.manual_seed(1337)\n",
    "B,T,C = 4,8,32\n",
    "x = torch.randn((B,T,C))"
   ]
  },
  {
   "cell_type": "code",
   "execution_count": 88,
   "id": "1253c4fc",
   "metadata": {},
   "outputs": [
    {
     "data": {
      "text/plain": [
       "torch.Size([4, 8, 16])"
      ]
     },
     "execution_count": 88,
     "metadata": {},
     "output_type": "execute_result"
    }
   ],
   "source": [
    "head_size = 16\n",
    "key = nn.Linear(C,head_size,bias=False)\n",
    "query = nn.Linear(C,head_size,bias = False)\n",
    "value = nn.Linear(C,head_size,bias=False)\n",
    "k = key(x)\n",
    "q = query(x) # (B,T,head_size)\n",
    "v = value(x)\n",
    "wei = q@k.transpose(-2,-1)\n",
    "\n",
    "trill = torch.tril(torch.ones(T,T))\n",
    "wei = wei.masked_fill(trill==0,float('-inf'))\n",
    "wei = f.softmax(wei,dim=-1)\n",
    "wei.shape\n",
    "out = wei @ v \n",
    "out.shape"
   ]
  },
  {
   "cell_type": "code",
   "execution_count": null,
   "id": "d158341e",
   "metadata": {},
   "outputs": [],
   "source": [
    "class Head(nn.Module):\n",
    "    def __init__(self,head_size):\n",
    "        super().__init__()\n",
    "        self.key = nn.Linear(n_embd,head_size,bias=False)"
   ]
  }
 ],
 "metadata": {
  "kernelspec": {
   "display_name": "base",
   "language": "python",
   "name": "python3"
  },
  "language_info": {
   "codemirror_mode": {
    "name": "ipython",
    "version": 3
   },
   "file_extension": ".py",
   "mimetype": "text/x-python",
   "name": "python",
   "nbconvert_exporter": "python",
   "pygments_lexer": "ipython3",
   "version": "3.13.5"
  }
 },
 "nbformat": 4,
 "nbformat_minor": 5
}
